{
 "cells": [
  {
   "cell_type": "code",
   "execution_count": null,
   "id": "passing-scratch",
   "metadata": {},
   "outputs": [],
   "source": [
    "from transformers import GPT2Tokenizer\n",
    "\n",
    "tokenizer = GPT2Tokenizer.from_pretrained('gpt2', \n",
    "                                          bos_token='<|startoftext|>', \n",
    "                                          eos_token='<|endoftext|>', \n",
    "                                          pad_token='<|pad|>')\n",
    "\n",
    "\n",
    "tokenizer.encode(\"Sample Text\")\n",
    "project_base=\"/home/username/haiku/\""
   ]
  },
  {
   "cell_type": "code",
   "execution_count": 3,
   "id": "historic-dynamics",
   "metadata": {},
   "outputs": [],
   "source": [
    "with open(project_base+'/dataset/input_formatted.txt') as f:\n",
    "    data = f.readlines()"
   ]
  },
  {
   "cell_type": "code",
   "execution_count": 4,
   "id": "furnished-rachel",
   "metadata": {},
   "outputs": [],
   "source": [
    "import requests \n",
    "import pandas as pd\n",
    "from itertools import compress\n",
    "df = pd.DataFrame(\n",
    "    data,\n",
    "    columns=['data']\n",
    "    )\n",
    "\n",
    "haikus = df.data.copy()"
   ]
  },
  {
   "cell_type": "code",
   "execution_count": 5,
   "id": "exempt-dictionary",
   "metadata": {},
   "outputs": [],
   "source": [
    "bs = 32"
   ]
  },
  {
   "cell_type": "code",
   "execution_count": 6,
   "id": "fleet-minute",
   "metadata": {},
   "outputs": [],
   "source": [
    "max_flavour = max([len(tokenizer.encode(haiku)) for haiku in haikus])"
   ]
  },
  {
   "cell_type": "code",
   "execution_count": 7,
   "id": "rural-pharmaceutical",
   "metadata": {},
   "outputs": [],
   "source": [
    "import torch\n",
    "torch.manual_seed(42)\n",
    "from torch.utils.data import Dataset # this is the pytorch class import\n",
    "\n",
    "class HaikuDataset(Dataset):\n",
    "\n",
    "  def __init__(self, txt_list, tokenizer, gpt2_type=\"gpt2\", max_length=max_flavour):\n",
    "\n",
    "    self.tokenizer = tokenizer # the gpt2 tokenizer we instantiated\n",
    "    self.input_ids = []\n",
    "    self.attn_masks = []\n",
    "\n",
    "    for txt in txt_list:\n",
    "      \"\"\"\n",
    "      This loop will iterate through each entry in the flavour text corpus.\n",
    "      For each bit of text it will prepend it with the start of text token,\n",
    "      then append the end of text token and pad to the maximum length with the \n",
    "      pad token. \n",
    "      \"\"\"\n",
    "\n",
    "      encodings_dict = tokenizer('<|startoftext|>'+ txt + '<|endoftext|>', \n",
    "                                 truncation=True, \n",
    "                                 max_length=max_length, \n",
    "                                 padding=\"max_length\")\n",
    "      \n",
    "      \"\"\"\n",
    "      Each iteration then appends either the encoded tensor to a list,\n",
    "      or the attention mask for that encoding to a list. The attention mask is\n",
    "      a binary list of 1's or 0's which determine whether the langauge model\n",
    "      should take that token into consideration or not. \n",
    "      \"\"\"\n",
    "      self.input_ids.append(torch.tensor(encodings_dict['input_ids']))\n",
    "      self.attn_masks.append(torch.tensor(encodings_dict['attention_mask']))\n",
    "    \n",
    "  def __len__(self):\n",
    "    return len(self.input_ids)\n",
    "\n",
    "  def __getitem__(self, idx):\n",
    "    return self.input_ids[idx], self.attn_masks[idx] "
   ]
  },
  {
   "cell_type": "code",
   "execution_count": 8,
   "id": "realistic-wealth",
   "metadata": {},
   "outputs": [
    {
     "data": {
      "text/plain": [
       "'There are 12550 samples for training, and 1395 samples for validation testing'"
      ]
     },
     "execution_count": 8,
     "metadata": {},
     "output_type": "execute_result"
    }
   ],
   "source": [
    "from torch.utils.data import random_split\n",
    "\n",
    "dataset = HaikuDataset(haikus, tokenizer, max_length=max_flavour)\n",
    "\n",
    "# Split into training and validation sets\n",
    "train_size = int(0.9 * len(dataset))\n",
    "val_size = len(dataset) - train_size\n",
    "\n",
    "train_dataset, val_dataset = random_split(dataset, [train_size, val_size])\n",
    "\n",
    "f'There are {train_size} samples for training, and {val_size} samples for validation testing'"
   ]
  },
  {
   "cell_type": "code",
   "execution_count": 9,
   "id": "retained-variation",
   "metadata": {},
   "outputs": [],
   "source": [
    "from torch.utils.data import DataLoader, RandomSampler, SequentialSampler\n",
    "\n",
    "train_dataloader = DataLoader(\n",
    "            train_dataset,  \n",
    "            sampler = RandomSampler(train_dataset), # Sampling for training is random\n",
    "            batch_size = bs\n",
    "        )\n",
    "\n",
    "validation_dataloader = DataLoader(\n",
    "            val_dataset, \n",
    "            sampler = SequentialSampler(val_dataset), # Sampling for validation is sequential as the order doesn't matter.\n",
    "            batch_size = bs \n",
    "        )"
   ]
  },
  {
   "cell_type": "code",
   "execution_count": 10,
   "id": "copyrighted-reasoning",
   "metadata": {},
   "outputs": [
    {
     "data": {
      "application/vnd.jupyter.widget-view+json": {
       "model_id": "a2774ed834924289aef7e7ee9b6f4188",
       "version_major": 2,
       "version_minor": 0
      },
      "text/plain": [
       "Downloading:   0%|          | 0.00/665 [00:00<?, ?B/s]"
      ]
     },
     "metadata": {},
     "output_type": "display_data"
    },
    {
     "data": {
      "application/vnd.jupyter.widget-view+json": {
       "model_id": "4a866cdd874644d891a47c4a7183a764",
       "version_major": 2,
       "version_minor": 0
      },
      "text/plain": [
       "Downloading:   0%|          | 0.00/548M [00:00<?, ?B/s]"
      ]
     },
     "metadata": {},
     "output_type": "display_data"
    }
   ],
   "source": [
    "import random\n",
    "from transformers import GPT2LMHeadModel, GPT2Config\n",
    "import numpy as np\n",
    "\n",
    "# Loading the model configuration and setting it to the GPT2 standard settings.\n",
    "configuration = GPT2Config.from_pretrained('gpt2', output_hidden_states=False)\n",
    "\n",
    "# Create the instance of the model and set the token size embedding length\n",
    "model = GPT2LMHeadModel.from_pretrained(\"gpt2\", config=configuration)\n",
    "model.resize_token_embeddings(len(tokenizer))\n",
    "\n",
    "# Tell pytorch to run this model on the GPU.\n",
    "device = torch.device(\"cuda\")\n",
    "model.cuda()\n",
    "\n",
    "# This step is optional but will enable reproducible runs.\n",
    "seed_val = 42\n",
    "\n",
    "random.seed(seed_val)\n",
    "np.random.seed(seed_val)\n",
    "torch.manual_seed(seed_val)\n",
    "torch.cuda.manual_seed_all(seed_val)"
   ]
  },
  {
   "cell_type": "code",
   "execution_count": 11,
   "id": "successful-receiver",
   "metadata": {},
   "outputs": [],
   "source": [
    "epochs = 4\n",
    "warmup_steps = 1e2\n",
    "sample_every = 100"
   ]
  },
  {
   "cell_type": "code",
   "execution_count": 12,
   "id": "authorized-minute",
   "metadata": {},
   "outputs": [],
   "source": [
    "from transformers import AdamW\n",
    "# AdamW is a class from the huggingface library, it is the optimizer we will be using, and we will only be instantiating it with the default parameters. \n",
    "optimizer = AdamW(model.parameters(),\n",
    "                  lr = 5e-4,\n",
    "                  eps = 1e-8\n",
    "                )"
   ]
  },
  {
   "cell_type": "code",
   "execution_count": 13,
   "id": "grave-washer",
   "metadata": {},
   "outputs": [],
   "source": [
    "from transformers import get_linear_schedule_with_warmup\n",
    "\n",
    "\"\"\"\n",
    "Total training steps is the number of data points, times the number of epochs. \n",
    "Essentially, epochs are training cycles, how many times each point will be seen by the model. \n",
    "\"\"\"\n",
    "\n",
    "total_steps = len(train_dataloader) * epochs\n",
    "\n",
    "\"\"\"\n",
    "We can set a variable learning rate which will help scan larger areas of the \n",
    "problem space at higher LR earlier, then fine tune to find the exact model minima \n",
    "at lower LR later in training.\n",
    "\"\"\"\n",
    "scheduler = get_linear_schedule_with_warmup(optimizer, \n",
    "                                            num_warmup_steps = warmup_steps, \n",
    "                                            num_training_steps = total_steps)"
   ]
  },
  {
   "cell_type": "code",
   "execution_count": 14,
   "id": "ranking-electricity",
   "metadata": {},
   "outputs": [
    {
     "name": "stdout",
     "output_type": "stream",
     "text": [
      "Beginning epoch 1 of 4\n"
     ]
    },
    {
     "name": "stderr",
     "output_type": "stream",
     "text": [
      "Setting `pad_token_id` to 50256 (first `eos_token_id`) to generate sequence\n"
     ]
    },
    {
     "name": "stdout",
     "output_type": "stream",
     "text": [
      "Batch 100 of 393. Loss:2.0328567028045654. Time:0:00:19\n",
      "Example output:  bipartisan<s> lightning storm + through the garden </s>\n",
      "\n"
     ]
    },
    {
     "name": "stderr",
     "output_type": "stream",
     "text": [
      "Setting `pad_token_id` to 50256 (first `eos_token_id`) to generate sequence\n"
     ]
    },
    {
     "name": "stdout",
     "output_type": "stream",
     "text": [
      "Batch 200 of 393. Loss:1.7656956911087036. Time:0:00:38\n",
      "Example output:  increasing<s> after a funeral + the sound of a crow calling + from a grave </s>\n",
      "\n"
     ]
    },
    {
     "name": "stderr",
     "output_type": "stream",
     "text": [
      "Setting `pad_token_id` to 50256 (first `eos_token_id`) to generate sequence\n"
     ]
    },
    {
     "name": "stdout",
     "output_type": "stream",
     "text": [
      "Batch 300 of 393. Loss:1.6095466613769531. Time:0:00:56\n",
      "Example output: day<s> old school + all you can see + before me </s>\n",
      "\n",
      "Average Training Loss: 2.8346107767435127. Epoch time: 0:01:14\n",
      "Validation loss: 1.660438602620905. Validation Time: 0:00:02\n",
      "Beginning epoch 2 of 4\n"
     ]
    },
    {
     "name": "stderr",
     "output_type": "stream",
     "text": [
      "Setting `pad_token_id` to 50256 (first `eos_token_id`) to generate sequence\n"
     ]
    },
    {
     "name": "stdout",
     "output_type": "stream",
     "text": [
      "Batch 100 of 393. Loss:1.4790865182876587. Time:0:00:19\n",
      "Example output:  Hang<s> the river's surface + on a white plow? + the sun </s>\n",
      "\n"
     ]
    },
    {
     "name": "stderr",
     "output_type": "stream",
     "text": [
      "Setting `pad_token_id` to 50256 (first `eos_token_id`) to generate sequence\n"
     ]
    },
    {
     "name": "stdout",
     "output_type": "stream",
     "text": [
      "Batch 200 of 393. Loss:1.5505626201629639. Time:0:00:38\n",
      "Example output:  foods<s> spring rain... + i try to make up + my mind </s>\n",
      "\n"
     ]
    },
    {
     "name": "stderr",
     "output_type": "stream",
     "text": [
      "Setting `pad_token_id` to 50256 (first `eos_token_id`) to generate sequence\n"
     ]
    },
    {
     "name": "stdout",
     "output_type": "stream",
     "text": [
      "Batch 300 of 393. Loss:1.4997425079345703. Time:0:00:58\n",
      "Example output:  trail<s> first light + a cold night + in our hotel rooms </s>\n",
      "\n",
      "Average Training Loss: 1.5676072526524085. Epoch time: 0:01:15\n",
      "Validation loss: 1.6385540501637892. Validation Time: 0:00:02\n",
      "Beginning epoch 3 of 4\n"
     ]
    },
    {
     "name": "stderr",
     "output_type": "stream",
     "text": [
      "Setting `pad_token_id` to 50256 (first `eos_token_id`) to generate sequence\n"
     ]
    },
    {
     "name": "stdout",
     "output_type": "stream",
     "text": [
      "Batch 100 of 393. Loss:1.3959490060806274. Time:0:00:18\n",
      "Example output: intend<s> spring dawn - + a boy's eyes + a pale purple </s>\n",
      "\n"
     ]
    },
    {
     "name": "stderr",
     "output_type": "stream",
     "text": [
      "Setting `pad_token_id` to 50256 (first `eos_token_id`) to generate sequence\n"
     ]
    },
    {
     "name": "stdout",
     "output_type": "stream",
     "text": [
      "Batch 200 of 393. Loss:1.3878724575042725. Time:0:00:37\n",
      "Example output:  surround<s> winter night + so loud and so loud + the blue dawn </s>\n",
      "\n"
     ]
    },
    {
     "name": "stderr",
     "output_type": "stream",
     "text": [
      "Setting `pad_token_id` to 50256 (first `eos_token_id`) to generate sequence\n"
     ]
    },
    {
     "name": "stdout",
     "output_type": "stream",
     "text": [
      "Batch 300 of 393. Loss:1.4130899906158447. Time:0:00:55\n",
      "Example output:  reflex<s> in the back alley + the scent of garlic + on my lips </s>\n",
      "\n",
      "Average Training Loss: 1.4379507430637155. Epoch time: 0:01:12\n",
      "Validation loss: 1.6436751511963932. Validation Time: 0:00:02\n",
      "Beginning epoch 4 of 4\n"
     ]
    },
    {
     "name": "stderr",
     "output_type": "stream",
     "text": [
      "Setting `pad_token_id` to 50256 (first `eos_token_id`) to generate sequence\n"
     ]
    },
    {
     "name": "stdout",
     "output_type": "stream",
     "text": [
      "Batch 100 of 393. Loss:1.3303910493850708. Time:0:00:18\n",
      "Example output:  display<s> rainstorm clouds--- + a red spider + in the web </s>\n",
      "\n"
     ]
    },
    {
     "name": "stderr",
     "output_type": "stream",
     "text": [
      "Setting `pad_token_id` to 50256 (first `eos_token_id`) to generate sequence\n"
     ]
    },
    {
     "name": "stdout",
     "output_type": "stream",
     "text": [
      "Batch 200 of 393. Loss:1.3190563917160034. Time:0:00:36\n",
      "Example output:  pastor<s> cold May morning + i stand by + my beliefs </s>\n",
      "\n"
     ]
    },
    {
     "name": "stderr",
     "output_type": "stream",
     "text": [
      "Setting `pad_token_id` to 50256 (first `eos_token_id`) to generate sequence\n"
     ]
    },
    {
     "name": "stdout",
     "output_type": "stream",
     "text": [
      "Batch 300 of 393. Loss:1.3570098876953125. Time:0:00:54\n",
      "Example output:  illicit<s> crescent moon + a spider and + the spiderlings </s>\n",
      "\n",
      "Average Training Loss: 1.3359831407779956. Epoch time: 0:01:12\n",
      "Validation loss: 1.6644088923931122. Validation Time: 0:00:02\n",
      "Total training took 0:05:01\n"
     ]
    }
   ],
   "source": [
    "import random\n",
    "import time\n",
    "import datetime\n",
    "\n",
    "def format_time(elapsed):\n",
    "    return str(datetime.timedelta(seconds=int(round((elapsed)))))\n",
    "\n",
    "total_t0 = time.time()\n",
    "\n",
    "training_stats = []\n",
    "\n",
    "model = model.to(device)\n",
    "\n",
    "for epoch_i in range(0, epochs):\n",
    "\n",
    "    print(f'Beginning epoch {epoch_i + 1} of {epochs}')\n",
    "\n",
    "    t0 = time.time()\n",
    "\n",
    "    total_train_loss = 0\n",
    "\n",
    "    model.train()\n",
    "\n",
    "    for step, batch in enumerate(train_dataloader):\n",
    "\n",
    "        b_input_ids = batch[0].to(device)\n",
    "        b_labels = batch[0].to(device)\n",
    "        b_masks = batch[1].to(device)\n",
    "\n",
    "        model.zero_grad()        \n",
    "\n",
    "        outputs = model(  b_input_ids,\n",
    "                          labels=b_labels, \n",
    "                          attention_mask = b_masks,\n",
    "                          token_type_ids=None\n",
    "                        )\n",
    "\n",
    "        loss = outputs[0]  \n",
    "\n",
    "        batch_loss = loss.item()\n",
    "        total_train_loss += batch_loss\n",
    "\n",
    "        # Get sample every 100 batches.\n",
    "        if step % sample_every == 0 and not step == 0:\n",
    "\n",
    "            elapsed = format_time(time.time() - t0)\n",
    "            print(f'Batch {step} of {len(train_dataloader)}. Loss:{batch_loss}. Time:{elapsed}')\n",
    "\n",
    "            model.eval()\n",
    "\n",
    "            sample_outputs = model.generate(\n",
    "                                    bos_token_id=random.randint(1,30000),\n",
    "                                    do_sample=True,   \n",
    "                                    top_k=50, \n",
    "                                    max_length = 200,\n",
    "                                    top_p=0.95, \n",
    "                                    num_return_sequences=1\n",
    "                                )\n",
    "            for i, sample_output in enumerate(sample_outputs):\n",
    "                  print(f'Example output: {tokenizer.decode(sample_output, skip_special_tokens=True)}')\n",
    "            \n",
    "            model.train()\n",
    "\n",
    "        loss.backward()\n",
    "\n",
    "        optimizer.step()\n",
    "\n",
    "        scheduler.step()\n",
    "\n",
    "    # Calculate the average loss over all of the batches.\n",
    "    avg_train_loss = total_train_loss / len(train_dataloader)       \n",
    "    \n",
    "    # Measure how long this epoch took.\n",
    "    training_time = format_time(time.time() - t0)\n",
    "\n",
    "    print(f'Average Training Loss: {avg_train_loss}. Epoch time: {training_time}')\n",
    "\n",
    "    t0 = time.time()\n",
    "\n",
    "    model.eval()\n",
    "\n",
    "    total_eval_loss = 0\n",
    "    nb_eval_steps = 0\n",
    "\n",
    "    # Evaluate data for one epoch\n",
    "    for batch in validation_dataloader:\n",
    "        \n",
    "        b_input_ids = batch[0].to(device)\n",
    "        b_labels = batch[0].to(device)\n",
    "        b_masks = batch[1].to(device)\n",
    "        \n",
    "        with torch.no_grad():        \n",
    "\n",
    "            outputs  = model(b_input_ids,  \n",
    "                             attention_mask = b_masks,\n",
    "                             labels=b_labels)\n",
    "          \n",
    "            loss = outputs[0]  \n",
    "            \n",
    "        batch_loss = loss.item()\n",
    "        total_eval_loss += batch_loss        \n",
    "\n",
    "    avg_val_loss = total_eval_loss / len(validation_dataloader)\n",
    "    \n",
    "    validation_time = format_time(time.time() - t0)    \n",
    "\n",
    "    print(f'Validation loss: {avg_val_loss}. Validation Time: {validation_time}')\n",
    "\n",
    "    # Record all statistics from this epoch.\n",
    "    training_stats.append(\n",
    "        {\n",
    "            'epoch': epoch_i + 1,\n",
    "            'Training Loss': avg_train_loss,\n",
    "            'Valid. Loss': avg_val_loss,\n",
    "            'Training Time': training_time,\n",
    "            'Validation Time': validation_time\n",
    "        }\n",
    "    )\n",
    "\n",
    "print(f'Total training took {format_time(time.time()-total_t0)}')"
   ]
  },
  {
   "cell_type": "code",
   "execution_count": 15,
   "id": "impaired-springer",
   "metadata": {},
   "outputs": [
    {
     "data": {
      "image/png": "[encoded data removed]",
      "text/plain": [
       "<Figure size 864x432 with 1 Axes>"
      ]
     },
     "metadata": {},
     "output_type": "display_data"
    }
   ],
   "source": [
    "import seaborn as sns\n",
    "import matplotlib.pyplot as plt\n",
    "%matplotlib inline\n",
    "\n",
    "pd.set_option('precision', 2)\n",
    "df_stats = pd.DataFrame(data=training_stats)\n",
    "df_stats = df_stats.set_index('epoch')\n",
    "\n",
    "# Use plot styling from seaborn.\n",
    "sns.set(style='darkgrid')\n",
    "\n",
    "# Increase the plot size and font size.\n",
    "sns.set(font_scale=1.5)\n",
    "plt.rcParams[\"figure.figsize\"] = (12,6)\n",
    "\n",
    "# Plot the learning curve.\n",
    "plt.plot(df_stats['Training Loss'], 'b-o', label=\"Training\")\n",
    "plt.plot(df_stats['Valid. Loss'], 'g-o', label=\"Validation\")\n",
    "\n",
    "# Label the plot.\n",
    "plt.title(\"Training & Validation Loss\")\n",
    "plt.xlabel(\"Epoch\")\n",
    "plt.ylabel(\"Loss\")\n",
    "plt.legend()\n",
    "plt.xticks([1, 2, 3, 4])\n",
    "\n",
    "plt.show()"
   ]
  },
  {
   "cell_type": "code",
   "execution_count": null,
   "id": "sealed-times",
   "metadata": {},
   "outputs": [],
   "source": [
    "output_dir = project_base+'/gpt2-haiku'\n",
    "\n",
    "tokenizer.save_pretrained(output_dir)\n",
    "\n",
    "# Save a trained model, configuration and tokenizer using `save_pretrained()`.\n",
    "# They can then be reloaded using `from_pretrained()`\n",
    "#model_to_save = model.module if hasattr(model, 'module') else model\n",
    "#model_to_save.save_pretrained(output_dir)\n",
    "#tokenizer.save_pretrained(output_dir)\n",
    "# Good practice: save your training arguments together with the trained model\n",
    "#torch.save(args, os.path.join(output_dir, 'training_args.bin'))"
   ]
  },
  {
   "cell_type": "code",
   "execution_count": 120,
   "id": "colored-providence",
   "metadata": {},
   "outputs": [],
   "source": [
    "#ONLY USE IF LOADING FROM SAVED\n",
    "\n",
    "import time\n",
    "from transformers import GPT2LMHeadModel, GPT2Config\n",
    "import torch\n",
    "from transformers import GPT2Tokenizer\n",
    "input_dir = project_base+'/gpt2-haiku3'\n",
    "model = GPT2LMHeadModel.from_pretrained(\n",
    "    input_dir,\n",
    "    output_hidden_states=True\n",
    ")\n",
    "#device = torch.device(\"cuda\")\n",
    "device = torch.device(\"cpu\")\n",
    "#model.to(device)\n",
    "\n",
    "# load tokenizer\n",
    "tokenizer = GPT2Tokenizer.from_pretrained(input_dir)"
   ]
  },
  {
   "cell_type": "code",
   "execution_count": 18,
   "id": "royal-indianapolis",
   "metadata": {},
   "outputs": [],
   "source": [
    "#remaining cells are for evaluation purposes only\n",
    "\n",
    "import re\n",
    "import math\n",
    "\n",
    "# used for unseen words in training vocabularies\n",
    "UNK = None\n",
    "# sentence start and end\n",
    "SENTENCE_START = \"<s>\"\n",
    "SENTENCE_END = \"</s>\"\n",
    "\n",
    "def read_sentences_from_file(file_path):\n",
    "    with open(file_path, \"r\") as f:\n",
    "        return [re.split(\"\\s+\", line.rstrip('\\n')) for line in f]\n",
    "\n",
    "class UnigramLanguageModel:\n",
    "    def __init__(self, sentences, smoothing=False):\n",
    "        self.unigram_frequencies = dict()\n",
    "        self.corpus_length = 0\n",
    "        for sentence in sentences:\n",
    "            for word in sentence:\n",
    "                self.unigram_frequencies[word] = self.unigram_frequencies.get(word, 0) + 1\n",
    "                if word != SENTENCE_START and word != SENTENCE_END:\n",
    "                    self.corpus_length += 1\n",
    "        # subtract 2 because unigram_frequencies dictionary contains values for SENTENCE_START and SENTENCE_END\n",
    "        self.unique_words = len(self.unigram_frequencies) - 2\n",
    "        self.smoothing = smoothing\n",
    "\n",
    "    def calculate_unigram_probability(self, word):\n",
    "            word_probability_numerator = self.unigram_frequencies.get(word, 0)\n",
    "            word_probability_denominator = self.corpus_length\n",
    "            if self.smoothing:\n",
    "                word_probability_numerator += 1\n",
    "                # add one more to total number of seen unique words for UNK - unseen events\n",
    "                word_probability_denominator += self.unique_words + 1\n",
    "            return float(word_probability_numerator) / float(word_probability_denominator)\n",
    "\n",
    "    def calculate_sentence_probability(self, sentence, normalize_probability=True):\n",
    "        sentence_probability_log_sum = 0\n",
    "        for word in sentence:\n",
    "            if word != SENTENCE_START and word != SENTENCE_END:\n",
    "                word_probability = self.calculate_unigram_probability(word)\n",
    "                sentence_probability_log_sum += math.log(word_probability, 2)\n",
    "        return math.pow(2, sentence_probability_log_sum) if normalize_probability else sentence_probability_log_sum                \n",
    "\n",
    "    def sorted_vocabulary(self):\n",
    "        full_vocab = list(self.unigram_frequencies.keys())\n",
    "        full_vocab.remove(SENTENCE_START)\n",
    "        full_vocab.remove(SENTENCE_END)\n",
    "        full_vocab.sort()\n",
    "        full_vocab.append(UNK)\n",
    "        full_vocab.append(SENTENCE_START)\n",
    "        full_vocab.append(SENTENCE_END)\n",
    "        return full_vocab\n",
    "\n",
    "class BigramLanguageModel(UnigramLanguageModel):\n",
    "    def __init__(self, sentences, smoothing=False):\n",
    "        UnigramLanguageModel.__init__(self, sentences, smoothing)\n",
    "        self.bigram_frequencies = dict()\n",
    "        self.unique_bigrams = set()\n",
    "        for sentence in sentences:\n",
    "            previous_word = None\n",
    "            for word in sentence:\n",
    "                if previous_word != None:\n",
    "                    self.bigram_frequencies[(previous_word, word)] = self.bigram_frequencies.get((previous_word, word),\n",
    "                                                                                                 0) + 1\n",
    "                    if previous_word != SENTENCE_START and word != SENTENCE_END:\n",
    "                        self.unique_bigrams.add((previous_word, word))\n",
    "                previous_word = word\n",
    "        self.unique__bigram_words = len(self.unigram_frequencies)\n",
    "\n",
    "    def calculate_bigram_probabilty(self, previous_word, word):\n",
    "        bigram_word_probability_numerator = self.bigram_frequencies.get((previous_word, word), 0)\n",
    "        bigram_word_probability_denominator = self.unigram_frequencies.get(previous_word, 0)\n",
    "        if self.smoothing:\n",
    "            bigram_word_probability_numerator += 1\n",
    "            bigram_word_probability_denominator += self.unique__bigram_words\n",
    "        return 0.0 if bigram_word_probability_numerator == 0 or bigram_word_probability_denominator == 0 else float(\n",
    "            bigram_word_probability_numerator) / float(bigram_word_probability_denominator)\n",
    "\n",
    "    def calculate_bigram_sentence_probability(self, sentence, normalize_probability=True):\n",
    "        bigram_sentence_probability_log_sum = 0\n",
    "        previous_word = None\n",
    "        for word in sentence:\n",
    "            if previous_word != None:\n",
    "                bigram_word_probability = self.calculate_bigram_probabilty(previous_word, word)\n",
    "                bigram_sentence_probability_log_sum += math.log(bigram_word_probability, 2)\n",
    "            previous_word = word\n",
    "        return math.pow(2,\n",
    "                        bigram_sentence_probability_log_sum) if normalize_probability else bigram_sentence_probability_log_sum\n",
    "\n",
    "# calculate number of unigrams & bigrams\n",
    "def calculate_number_of_unigrams(sentences):\n",
    "    unigram_count = 0\n",
    "    for sentence in sentences:\n",
    "        # remove two for <s> and </s>\n",
    "        unigram_count += len(sentence) - 2\n",
    "    return unigram_count\n",
    "\n",
    "def calculate_number_of_bigrams(sentences):\n",
    "        bigram_count = 0\n",
    "        for sentence in sentences:\n",
    "            # remove one for number of bigrams in sentence\n",
    "            bigram_count += len(sentence) - 1\n",
    "        return bigram_count\n",
    "\n",
    "# print unigram and bigram probs\n",
    "def print_unigram_probs(sorted_vocab_keys, model):\n",
    "    for vocab_key in sorted_vocab_keys:\n",
    "        if vocab_key != SENTENCE_START and vocab_key != SENTENCE_END:\n",
    "            print(\"{}: {}\".format(vocab_key if vocab_key != UNK else \"UNK\",\n",
    "                                       model.calculate_unigram_probability(vocab_key)), end=\" \")\n",
    "    print(\"\")\n",
    "\n",
    "def print_bigram_probs(sorted_vocab_keys, model):\n",
    "    print(\"\\t\\t\", end=\"\")\n",
    "    for vocab_key in sorted_vocab_keys:\n",
    "        if vocab_key != SENTENCE_START:\n",
    "            print(vocab_key if vocab_key != UNK else \"UNK\", end=\"\\t\\t\")\n",
    "    print(\"\")\n",
    "    for vocab_key in sorted_vocab_keys:\n",
    "        if vocab_key != SENTENCE_END:\n",
    "            print(vocab_key if vocab_key != UNK else \"UNK\", end=\"\\t\\t\")\n",
    "            for vocab_key_second in sorted_vocab_keys:\n",
    "                if vocab_key_second != SENTENCE_START:\n",
    "                    print(\"{0:.5f}\".format(model.calculate_bigram_probabilty(vocab_key, vocab_key_second)), end=\"\\t\\t\")\n",
    "            print(\"\")\n",
    "    print(\"\")\n",
    "\n",
    "# calculate perplexty\n",
    "def calculate_unigram_perplexity(model, sentences):\n",
    "    unigram_count = calculate_number_of_unigrams(sentences)\n",
    "    sentence_probability_log_sum = 0\n",
    "    for sentence in sentences:\n",
    "        try:\n",
    "            sentence_probability_log_sum -= math.log(model.calculate_sentence_probability(sentence), 2)\n",
    "        except:\n",
    "            sentence_probability_log_sum -= float('-inf')\n",
    "    return math.pow(2, sentence_probability_log_sum / unigram_count)\n",
    "\n",
    "def calculate_bigram_perplexity(model, sentences):\n",
    "    number_of_bigrams = calculate_number_of_bigrams(sentences)\n",
    "    bigram_sentence_probability_log_sum = 0\n",
    "    for sentence in sentences:\n",
    "        try:\n",
    "            bigram_sentence_probability_log_sum -= math.log(model.calculate_bigram_sentence_probability(sentence), 2)\n",
    "        except:\n",
    "            bigram_sentence_probability_log_sum -= float('-inf')\n",
    "    return math.pow(2, bigram_sentence_probability_log_sum / number_of_bigrams)\n",
    "\n",
    "\n",
    "def word_count(str):\n",
    "    counts = dict()\n",
    "    words = str.split()\n",
    "\n",
    "    for word in words:\n",
    "        if word in counts:\n",
    "            counts[word] += 1\n",
    "        else:\n",
    "            counts[word] = 1\n",
    "\n",
    "    return counts\n",
    "\n",
    "def countSyllablesEN(theText):\n",
    "\n",
    "    cleanText = \"\"\n",
    "    for ch in theText:\n",
    "        if ch in \"abcdefghijklmnopqrstuvwxyz'’\":\n",
    "            cleanText += ch\n",
    "        else:\n",
    "            cleanText += \" \"\n",
    "\n",
    "    asVow    = \"aeiouy'’\"\n",
    "    dExep    = (\"ei\",\"ie\",\"ua\",\"ia\",\"eo\")\n",
    "    theWords = cleanText.lower().split()\n",
    "    if (len(theWords) == 0):\n",
    "        theWords = \"a\"\n",
    "    allSylls = 0\n",
    "    for inWord in theWords:\n",
    "        nChar  = len(inWord)\n",
    "        nSyll  = 0\n",
    "        wasVow = False\n",
    "        wasY   = False\n",
    "        if nChar == 0:\n",
    "            continue\n",
    "        if inWord[0] in asVow:\n",
    "            nSyll += 1\n",
    "            wasVow = True\n",
    "            wasY   = inWord[0] == \"y\"\n",
    "        for c in range(1,nChar):\n",
    "            isVow  = False\n",
    "            if inWord[c] in asVow:\n",
    "                nSyll += 1\n",
    "                isVow = True\n",
    "            if isVow and wasVow:\n",
    "                nSyll -= 1\n",
    "            if isVow and wasY:\n",
    "                nSyll -= 1\n",
    "            if inWord[c:c+2] in dExep:\n",
    "                nSyll += 1\n",
    "            wasVow = isVow\n",
    "            wasY   = inWord[c] == \"y\"\n",
    "        if inWord.endswith((\"e\")):\n",
    "            nSyll -= 1\n",
    "        if inWord.endswith((\"le\",\"ea\",\"io\")):\n",
    "            nSyll += 1\n",
    "        if nSyll < 1:\n",
    "            nSyll = 1\n",
    "        # print(\"%-15s: %d\" % (inWord,nSyll))\n",
    "        allSylls += nSyll\n",
    "\n",
    "    return allSylls/len(theWords)\n",
    "\n",
    "def preprocess(haiku):\n",
    "    #don?t don't\n",
    "    haiku = haiku.replace('don?t','don\\'t')\n",
    "    #i?m i'm\n",
    "    haiku = haiku.replace('i?m','i\\'m')\n",
    "    #i?ve i've\n",
    "    haiku = haiku.replace('i?ve','i\\'ve')\n",
    "    haiku = haiku.replace('?','')\n",
    "    haiku = haiku.replace('-','')\n",
    "    haiku = haiku.replace('.','')\n",
    "    #haiku = haiku.encode(\"ascii\", \"ignore\")\n",
    "    return haiku\n",
    "\n",
    "dataset = read_sentences_from_file(project_base+\"/tests/original_dataset.txt\")\n",
    "dataset_model_smoothed = BigramLanguageModel(dataset, smoothing=True)"
   ]
  },
  {
   "cell_type": "code",
   "execution_count": 19,
   "id": "sacred-plain",
   "metadata": {},
   "outputs": [
    {
     "name": "stderr",
     "output_type": "stream",
     "text": [
      "Setting `pad_token_id` to 50256 (first `eos_token_id`) to generate sequence\n"
     ]
    },
    {
     "name": "stdout",
     "output_type": "stream",
     "text": [
      "last time I saw her + her belly button clings + to the floorboards </s>\n",
      "\n",
      "last time I saw her + summer's end </s>\n",
      "\n",
      "last time I saw her + she's gone </s>\n",
      "\n",
      "last time I saw her + she still wearing her grey dress </s>\n",
      "\n",
      "last time I saw her + he would never return my letter </s>\n",
      "\n",
      "last time I saw her + the same way twice </s>\n",
      "\n",
      "last time I saw her - + the long gray beard + of her ex-wife </s>\n",
      "\n",
      "last time I saw her + one small change + in the air </s>\n",
      "\n",
      "last time I saw her + her belly button undone </s>\n",
      "\n",
      "last time I saw her + in her dark red hair + autumn wind </s>\n",
      "\n",
      "last time I saw her + her belly button clings + to the floorboards </s>\n",
      "last time I saw her  + the long gray beard + of her exwife </s>\n",
      "last time I saw her + in her dark red hair + autumn wind </s>\n",
      "last time I saw her + one small change + in the air </s>\n",
      "\n"
     ]
    }
   ],
   "source": [
    "model.eval()\n",
    "\n",
    "prompt = \"<|startoftext|>last time I saw her\"\n",
    "\n",
    "generated = torch.tensor(tokenizer.encode(prompt)).unsqueeze(0)\n",
    "generated = generated.to(device)\n",
    "\n",
    "sample_outputs = model.generate(\n",
    "                                generated, \n",
    "                                do_sample=True,   \n",
    "                                top_k=50, \n",
    "                                max_length = 300,\n",
    "                                top_p=0.95, \n",
    "                                num_return_sequences=10\n",
    "                                )\n",
    "\n",
    "\n",
    "def score(haiku):\n",
    "    \n",
    "    #deviation from perfect size\n",
    "    score = 1\n",
    "    lines = haiku.split(\"+\")\n",
    "    if len(lines) < 3:\n",
    "        score -= 1\n",
    "    else:\n",
    "        for n in range(3):\n",
    "            count = 0\n",
    "            if len(lines[n]) > 40:\n",
    "                score -= 1\n",
    "            else:\n",
    "                if str(lines[n]) != 0:\n",
    "                    words = lines[n].split(\" \")\n",
    "                    for word in words:\n",
    "                        if len(str(word)) != 0:\n",
    "                            count += countSyllablesEN(str(word))\n",
    "                #award .0 points when distance from perfection if > 3\n",
    "                if n == 0 or n == 2:\n",
    "                    diff = abs(5 - count)\n",
    "                if n == 1:\n",
    "                    diff = 7 - count\n",
    "                #award .6 points for every \"perfect\" line\n",
    "                if diff <= 3:\n",
    "                    score += .6 - (diff * 0.2)\n",
    "    \n",
    "    #repetition\n",
    "    haiku = haiku.replace('+','')\n",
    "    wc = word_count(haiku)\n",
    "    for w in wc:\n",
    "        #curtail 1 point for every word longer than 3 chars that appears more than once\n",
    "        if wc[w] > 1 and len(w)>3:\n",
    "            score -= 1\n",
    "    \n",
    "    \n",
    "    #sensicality\n",
    "    dataset_test = re.split(\"\\s+\", \"<s> \"+haiku+\" </s>\".rstrip('\\n'))\n",
    "    perp = calculate_bigram_perplexity(dataset_model_smoothed, dataset_test) -13000\n",
    "    #print(\"perp: \"+str(perp))\n",
    "    if perp < 2100:\n",
    "        score += 1\n",
    "\n",
    "    return score\n",
    "\n",
    "\n",
    "tbs = []\n",
    "\n",
    "for i, sample_output in enumerate(sample_outputs):\n",
    "    h = tokenizer.decode(sample_output, skip_special_tokens=True)\n",
    "    print(h)\n",
    "    h = preprocess(h)\n",
    "    s = score(h)\n",
    "    tbs.append( (h, s) )\n",
    "\n",
    "\n",
    "tbs.sort(key=lambda x: x[1], reverse=True)\n",
    "#print (tbs)\n",
    "h = tbs[0][0] + tbs[1][0] + tbs[2][0] + tbs[3][0]\n",
    "print (h)\n",
    "\n",
    "    "
   ]
  },
  {
   "cell_type": "code",
   "execution_count": 128,
   "id": "latin-employee",
   "metadata": {},
   "outputs": [],
   "source": [
    "#Neuron View"
   ]
  },
  {
   "cell_type": "code",
   "execution_count": null,
   "id": "cross-israeli",
   "metadata": {},
   "outputs": [],
   "source": [
    "from bertviz.transformers_neuron_view import GPT2Model, GPT2Tokenizer\n",
    "from bertviz.neuron_view import show"
   ]
  },
  {
   "cell_type": "code",
   "execution_count": null,
   "id": "particular-courage",
   "metadata": {},
   "outputs": [],
   "source": [
    "\n",
    "model_type = 'gpt2'\n",
    "model_version = 'gpt2'\n",
    "model2 = GPT2LMHeadModel.from_pretrained(\n",
    "        project_base+'/gpt2-haiku',\n",
    "        output_hidden_states=True\n",
    "    )\n",
    "model2 = GPT2Model.from_pretrained(model_version)\n",
    "tokenizer = GPT2Tokenizer.from_pretrained(model_version)\n",
    "text = \"consciousness to smell + the sun-drenched forest + that never was\"\n",
    "show(model2, model_type, tokenizer, text, display_mode='dark')"
   ]
  }
 ],
 "metadata": {
  "kernelspec": {
   "display_name": "Python 3",
   "language": "python",
   "name": "python3"
  },
  "language_info": {
   "codemirror_mode": {
    "name": "ipython",
    "version": 3
   },
   "file_extension": ".py",
   "mimetype": "text/x-python",
   "name": "python",
   "nbconvert_exporter": "python",
   "pygments_lexer": "ipython3",
   "version": "3.6.9"
  }
 },
 "nbformat": 4,
 "nbformat_minor": 5
}
